{
  "nbformat": 4,
  "nbformat_minor": 0,
  "metadata": {
    "colab": {
      "name": "Untitled19.ipynb",
      "provenance": [],
      "authorship_tag": "ABX9TyOIHVdPoBxgL4T3WVclvh8z",
      "include_colab_link": true
    },
    "kernelspec": {
      "name": "python3",
      "display_name": "Python 3"
    },
    "language_info": {
      "name": "python"
    }
  },
  "cells": [
    {
      "cell_type": "markdown",
      "metadata": {
        "id": "view-in-github",
        "colab_type": "text"
      },
      "source": [
        "<a href=\"https://colab.research.google.com/github/a3hok/Data-Visualization-spring-2022/blob/main/quiz%2029.ipynb\" target=\"_parent\"><img src=\"https://colab.research.google.com/assets/colab-badge.svg\" alt=\"Open In Colab\"/></a>"
      ]
    },
    {
      "cell_type": "markdown",
      "source": [
        "#Explain the difference between standard error and confidence intervals."
      ],
      "metadata": {
        "id": "6F4Svul4CNTx"
      }
    },
    {
      "cell_type": "markdown",
      "source": [
        "One standard deviation of the distribution of the parameter of interest, which you are estimating, is referred to as standard error. \n",
        "\n",
        "In a frequentist paradigm, confidence intervals are the quantiles of the distribution of the parameter of interest that you are estimating."
      ],
      "metadata": {
        "id": "ZoxHy8-vB8Sv"
      }
    },
    {
      "cell_type": "markdown",
      "source": [
        "#Use the workout data and graph the average calories by workout type and include the 95% confidence interval."
      ],
      "metadata": {
        "id": "lHQ5wxFTCVBi"
      }
    },
    {
      "cell_type": "code",
      "execution_count": null,
      "metadata": {
        "id": "QpKbeyjspoq_"
      },
      "outputs": [],
      "source": [
        "import pandas as pd\n",
        "df = pd.read_csv('https://raw.githubusercontent.com/nurfnick/Data_Viz/main/iris.csv')\n",
        "df.head(10)"
      ]
    }
  ]
}