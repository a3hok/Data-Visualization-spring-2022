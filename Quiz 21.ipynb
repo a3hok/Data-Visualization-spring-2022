{
  "nbformat": 4,
  "nbformat_minor": 0,
  "metadata": {
    "colab": {
      "name": "Untitled3.ipynb",
      "provenance": [],
      "authorship_tag": "ABX9TyOELkuy9X1U2kEG/dibun+i",
      "include_colab_link": true
    },
    "kernelspec": {
      "name": "python3",
      "display_name": "Python 3"
    },
    "language_info": {
      "name": "python"
    }
  },
  "cells": [
    {
      "cell_type": "markdown",
      "metadata": {
        "id": "view-in-github",
        "colab_type": "text"
      },
      "source": [
        "<a href=\"https://colab.research.google.com/github/a3hok/Data-Visualization-spring-2022/blob/main/Quiz%2021.ipynb\" target=\"_parent\"><img src=\"https://colab.research.google.com/assets/colab-badge.svg\" alt=\"Open In Colab\"/></a>"
      ]
    },
    {
      "cell_type": "markdown",
      "source": [
        "Ashok Dahal\n",
        "#quiz 21"
      ],
      "metadata": {
        "id": "713mr0ZHH6_q"
      }
    },
    {
      "cell_type": "markdown",
      "source": [
        "1.Examine John Examine John Snow's map of cholera outbreak in 1854 for 'graphical excellence'. Discuss the highlights of the graphic.\n",
        "\n",
        "2.Find a modern reference and dicuss the excellence displayed. Include a link and image in your report.\n",
        "\n",
        "\n"
      ],
      "metadata": {
        "id": "ReqL7llkEn3P"
      }
    },
    {
      "cell_type": "markdown",
      "source": [
        "lets pull the graphical visualization of snow cholera map."
      ],
      "metadata": {
        "id": "3ugPI-62CtKE"
      }
    },
    {
      "cell_type": "markdown",
      "source": [
        "The link for the graphical visualization is here. \n",
        "https://www.theguardian.com/news/datablog/2013/mar/15/john-snow-cholera-map\n",
        "\n",
        "\n"
      ],
      "metadata": {
        "id": "8O7zL71HFMy_"
      }
    },
    {
      "cell_type": "markdown",
      "source": [
        "![john Snow](https://upload.wikimedia.org/wikipedia/commons/2/27/Snow-cholera-map-1.jpg)"
      ],
      "metadata": {
        "id": "R5El93RGA9ue"
      }
    }
  ]
}