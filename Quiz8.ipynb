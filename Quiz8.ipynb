{
  "cells": [
    {
      "cell_type": "markdown",
      "metadata": {
        "id": "view-in-github",
        "colab_type": "text"
      },
      "source": [
        "<a href=\"https://colab.research.google.com/github/a3hok/Data-Visualization-spring-2022/blob/main/Quiz8.ipynb\" target=\"_parent\"><img src=\"https://colab.research.google.com/assets/colab-badge.svg\" alt=\"Open In Colab\"/></a>"
      ]
    },
    {
      "cell_type": "markdown",
      "metadata": {
        "id": "Q_xaRjRNE5b4"
      },
      "source": [
        "Quiz 8\n",
        "\n",
        "#Ashok dahal\n",
        "\n",
        "\n",
        "Navigate you the wikipedia page for your favorite television show or sports club.\n",
        "\n",
        "1.Display the title for the page\n",
        "\n",
        "2.Within an interesting table, retrieve all links and store them in a list"
      ]
    },
    {
      "cell_type": "markdown",
      "metadata": {
        "id": "mp1vYYWBGTNg"
      },
      "source": [
        "I am going to choose All Of Us Are Dead series for my assignment. Here is the wikipedia link(\n",
        "https://en.wikipedia.org/wiki/All_of_Us_Are_Dead\n",
        ") to import packages to read and phrase data gathered from the web. I am going to use the request and BeautifulSoup."
      ]
    },
    {
      "cell_type": "code",
      "execution_count": 25,
      "metadata": {
        "id": "MkcLKX2z_5MD"
      },
      "outputs": [],
      "source": [
        "import requests\n",
        "import pandas as ad\n",
        "from bs4 import BeautifulSoup"
      ]
    },
    {
      "cell_type": "code",
      "execution_count": 26,
      "metadata": {
        "id": "TkWAr7L7G53n"
      },
      "outputs": [],
      "source": [
        "r = requests.get('https://en.wikipedia.org/wiki/All_of_Us_Are_Dead') #wikipedia link for raw data\n",
        "html_contents = r.text\n",
        "html_soup = BeautifulSoup(html_contents,\"lxml\")\n",
        "#html_soup"
      ]
    },
    {
      "cell_type": "markdown",
      "metadata": {
        "id": "B3x6NWG-IWLF"
      },
      "source": [
        "Displaying the TITLE PAGE."
      ]
    },
    {
      "cell_type": "code",
      "execution_count": null,
      "metadata": {
        "colab": {
          "base_uri": "https://localhost:8080/"
        },
        "id": "KmMtfmimH5HI",
        "outputId": "020ebf2c-bd3d-40b3-901e-d16686709274"
      },
      "outputs": [
        {
          "data": {
            "text/plain": [
              "<title>All of Us Are Dead - Wikipedia</title>"
            ]
          },
          "execution_count": 17,
          "metadata": {},
          "output_type": "execute_result"
        }
      ],
      "source": [
        "html_soup.title # to get the title"
      ]
    },
    {
      "cell_type": "markdown",
      "metadata": {
        "id": "TptekpTdIwhG"
      },
      "source": [
        "Retrieveing all links and store them in a list"
      ]
    },
    {
      "cell_type": "code",
      "execution_count": null,
      "metadata": {
        "colab": {
          "base_uri": "https://localhost:8080/"
        },
        "id": "Zu_plUUSIiCm",
        "outputId": "3f223435-6d59-45f9-d49e-54e420cc4870"
      },
      "outputs": [
        {
          "data": {
            "text/plain": [
              "[<a class=\"image\" href=\"/wiki/File:All_of_Us_Are_Dead.jpeg\"><img alt=\"All of Us Are Dead.jpeg\" data-file-height=\"316\" data-file-width=\"316\" decoding=\"async\" height=\"250\" src=\"//upload.wikimedia.org/wikipedia/en/thumb/2/24/All_of_Us_Are_Dead.jpeg/250px-All_of_Us_Are_Dead.jpeg\" srcset=\"//upload.wikimedia.org/wikipedia/en/2/24/All_of_Us_Are_Dead.jpeg 1.5x\" width=\"250\"/></a>,\n",
              " <a href=\"/wiki/Hangul\" title=\"Hangul\">Hangul</a>,\n",
              " <a href=\"/wiki/Hanja\" title=\"Hanja\">Hanja</a>,\n",
              " <a class=\"mw-redirect\" href=\"/wiki/Coming-of-age\" title=\"Coming-of-age\">Coming-of-age</a>,\n",
              " <a href=\"/wiki/Horror_fiction\" title=\"Horror fiction\">Horror</a>,\n",
              " <a href=\"/wiki/Zombie_apocalypse\" title=\"Zombie apocalypse\">Zombie apocalypse</a>,\n",
              " <a href=\"/wiki/Lee_Jae-kyoo\" title=\"Lee Jae-kyoo\">Lee Jae-kyoo</a>,\n",
              " <a href=\"/wiki/Yoon_Chan-young\" title=\"Yoon Chan-young\">Yoon Chan-young</a>,\n",
              " <a href=\"/wiki/Park_Ji-hoo\" title=\"Park Ji-hoo\">Park Ji-hoo</a>,\n",
              " <a href=\"/wiki/Cho_Yi-hyun\" title=\"Cho Yi-hyun\">Cho Yi-hyun</a>,\n",
              " <a href=\"/wiki/Mowg_(composer)\" title=\"Mowg (composer)\">Mowg</a>,\n",
              " <a class=\"mw-redirect\" href=\"/wiki/Single_camera\" title=\"Single camera\">Single camera</a>,\n",
              " <a href=\"/wiki/JTBC_Studios\" title=\"JTBC Studios\">JTBC Studios</a>,\n",
              " <a href=\"#cite_note-NFLX-1\">[1]</a>,\n",
              " <a href=\"/wiki/Kim_Jong-hak_Production\" title=\"Kim Jong-hak Production\">Kim Jong-hak Production</a>,\n",
              " <a href=\"#cite_note-NFLX-1\">[1]</a>,\n",
              " <a href=\"/wiki/Netflix\" title=\"Netflix\">Netflix</a>,\n",
              " <a href=\"/wiki/4K_resolution\" title=\"4K resolution\">4K</a>,\n",
              " <a class=\"mw-redirect\" href=\"/wiki/Ultra_HD\" title=\"Ultra HD\">Ultra HD</a>,\n",
              " <a href=\"/wiki/Dolby_Digital\" title=\"Dolby Digital\">Dolby Digital</a>,\n",
              " <a class=\"external text\" href=\"https://www.netflix.com/title/81237994\" rel=\"nofollow\">Official website</a>,\n",
              " <a class=\"external text\" href=\"https://www.jtbcstudios.com/works/scripted/view/199\" rel=\"nofollow\">Production website</a>]"
            ]
          },
          "execution_count": 18,
          "metadata": {},
          "output_type": "execute_result"
        }
      ],
      "source": [
        "html_soup.table.findAll('a') #to find all link"
      ]
    },
    {
      "cell_type": "markdown",
      "metadata": {
        "id": "F2azti_tJBxf"
      },
      "source": [
        "The above are the lists of all the links retrived from wikipedia."
      ]
    },
    {
      "cell_type": "markdown",
      "metadata": {
        "id": "1cBzVgotLOyp"
      },
      "source": [
        "Access each link by using the following command"
      ]
    },
    {
      "cell_type": "code",
      "execution_count": null,
      "metadata": {
        "colab": {
          "base_uri": "https://localhost:8080/",
          "height": 35
        },
        "id": "6f1nbFe4KweO",
        "outputId": "87e6206e-45eb-441d-afdd-82861192c232"
      },
      "outputs": [
        {
          "data": {
            "application/vnd.google.colaboratory.intrinsic+json": {
              "type": "string"
            },
            "text/plain": [
              "'/wiki/Hangul'"
            ]
          },
          "execution_count": 19,
          "metadata": {},
          "output_type": "execute_result"
        }
      ],
      "source": [
        "html_soup.table.find_all('a')[1]['href']"
      ]
    },
    {
      "cell_type": "code",
      "execution_count": null,
      "metadata": {
        "colab": {
          "base_uri": "https://localhost:8080/"
        },
        "id": "_9rBiQ7rK1UV",
        "outputId": "b4b4bbf0-2bde-4d4a-904a-04d5979ffefc"
      },
      "outputs": [
        {
          "data": {
            "text/plain": [
              "['https://en.wikipedia.org/wiki/File:All_of_Us_Are_Dead.jpeg',\n",
              " 'https://en.wikipedia.org/wiki/Hangul',\n",
              " 'https://en.wikipedia.org/wiki/Hanja',\n",
              " 'https://en.wikipedia.org/wiki/Coming-of-age',\n",
              " 'https://en.wikipedia.org/wiki/Horror_fiction',\n",
              " 'https://en.wikipedia.org/wiki/Zombie_apocalypse',\n",
              " 'https://en.wikipedia.org/wiki/Lee_Jae-kyoo',\n",
              " 'https://en.wikipedia.org/wiki/Yoon_Chan-young',\n",
              " 'https://en.wikipedia.org/wiki/Park_Ji-hoo',\n",
              " 'https://en.wikipedia.org/wiki/Cho_Yi-hyun',\n",
              " 'https://en.wikipedia.org/wiki/Mowg_(composer)',\n",
              " 'https://en.wikipedia.org/wiki/Single_camera',\n",
              " 'https://en.wikipedia.org/wiki/JTBC_Studios',\n",
              " 'https://en.wikipedia.org#cite_note-NFLX-1',\n",
              " 'https://en.wikipedia.org/wiki/Kim_Jong-hak_Production',\n",
              " 'https://en.wikipedia.org#cite_note-NFLX-1',\n",
              " 'https://en.wikipedia.org/wiki/Netflix',\n",
              " 'https://en.wikipedia.org/wiki/4K_resolution',\n",
              " 'https://en.wikipedia.org/wiki/Ultra_HD',\n",
              " 'https://en.wikipedia.org/wiki/Dolby_Digital',\n",
              " 'https://en.wikipedia.orghttps://www.netflix.com/title/81237994',\n",
              " 'https://en.wikipedia.orghttps://www.jtbcstudios.com/works/scripted/view/199']"
            ]
          },
          "execution_count": 20,
          "metadata": {},
          "output_type": "execute_result"
        }
      ],
      "source": [
        "links = html_soup.table.find_all('a')\n",
        "listOfURLS = []\n",
        "\n",
        "for link in links:\n",
        "  listOfURLS.append('https://en.wikipedia.org' + link['href']) #link \n",
        "\n",
        "listOfURLS"
      ]
    },
    {
      "cell_type": "markdown",
      "metadata": {
        "id": "twbrJfKbLVu_"
      },
      "source": [
        "The above are the link for the web series."
      ]
    },
    {
      "cell_type": "markdown",
      "metadata": {
        "id": "OrGhYsRuLi1v"
      },
      "source": [
        "#lets see the tabular form"
      ]
    },
    {
      "cell_type": "code",
      "execution_count": 28,
      "metadata": {
        "colab": {
          "base_uri": "https://localhost:8080/"
        },
        "id": "hvlBvIKYLsQN",
        "outputId": "551e828f-5c68-4ff6-964a-e3d22eaeeedd"
      },
      "outputs": [
        {
          "output_type": "stream",
          "name": "stdout",
          "text": [
            "+----+----------------------+-------------------------------------------------------------+\n",
            "|    | All of Us Are Dead   | All of Us Are Dead.1                                        |\n",
            "|----+----------------------+-------------------------------------------------------------|\n",
            "|  0 | Promotional poster   | Promotional poster                                          |\n",
            "|  1 | nan                  | nan                                                         |\n",
            "|  2 | Hangul               | 지금 우리 학교는                                            |\n",
            "|  3 | Hanja                | 只今 우리 學校는                                            |\n",
            "|  4 | Genre                | Coming-of-ageHorrorZombie apocalypse                        |\n",
            "|  5 | Based on             | Now at Our Schoolby Joo Dong-geun                           |\n",
            "|  6 | Written by           | Chun Sung-il                                                |\n",
            "|  7 | Directed by          | Lee Jae-kyooKim Nam-su                                      |\n",
            "|  8 | Starring             | Yoon Chan-youngPark Ji-hooCho Yi-hyunPark SolomonYoo In-soo |\n",
            "|  9 | Composer             | Mowg                                                        |\n",
            "| 10 | Country of origin    | South Korea                                                 |\n",
            "| 11 | Original language    | Korean                                                      |\n",
            "| 12 | No. of seasons       | 1                                                           |\n",
            "| 13 | No. of episodes      | 12                                                          |\n",
            "| 14 | Production           | Production                                                  |\n",
            "| 15 | Cinematography       | Park Se-seung                                               |\n",
            "| 16 | Editor               | Shin Min-kyung                                              |\n",
            "| 17 | Camera setup         | Single camera                                               |\n",
            "| 18 | Running time         | 53–72 minutes                                               |\n",
            "| 19 | Production companies | Film Monster by JTBC Studios[1]Kim Jong-hak Production[1]   |\n",
            "| 20 | Distributor          | Netflix                                                     |\n",
            "| 21 | Release              | Release                                                     |\n",
            "| 22 | Original network     | Netflix                                                     |\n",
            "| 23 | Picture format       | 4K (Ultra HD)                                               |\n",
            "| 24 | Audio format         | Dolby Digital                                               |\n",
            "| 25 | Original release     | January 28, 2022                                            |\n",
            "| 26 | External links       | External links                                              |\n",
            "| 27 | Official website     | Official website                                            |\n",
            "| 28 | Production website   | Production website                                          |\n",
            "+----+----------------------+-------------------------------------------------------------+\n"
          ]
        }
      ],
      "source": [
        "from tabulate import tabulate\n",
        "table = html_soup.find_all(class_ = 'infobox vevent')[0] \n",
        "df = ad.read_html(str(table))\n",
        "print( tabulate(df[0], headers='keys', tablefmt='psql') )"
      ]
    }
  ],
  "metadata": {
    "colab": {
      "name": "Untitled2.ipynb",
      "provenance": [],
      "authorship_tag": "ABX9TyOmQ/DSus+ScOnHnR+69Ivl",
      "include_colab_link": true
    },
    "kernelspec": {
      "display_name": "Python 3",
      "name": "python3"
    },
    "language_info": {
      "name": "python"
    }
  },
  "nbformat": 4,
  "nbformat_minor": 0
}