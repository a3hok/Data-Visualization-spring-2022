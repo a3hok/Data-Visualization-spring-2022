{
  "nbformat": 4,
  "nbformat_minor": 0,
  "metadata": {
    "colab": {
      "name": "Untitled7.ipynb",
      "provenance": [],
      "authorship_tag": "ABX9TyP4b3Q3Gehex2L1xvmaqRBc",
      "include_colab_link": true
    },
    "kernelspec": {
      "name": "python3",
      "display_name": "Python 3"
    },
    "language_info": {
      "name": "python"
    }
  },
  "cells": [
    {
      "cell_type": "markdown",
      "metadata": {
        "id": "view-in-github",
        "colab_type": "text"
      },
      "source": [
        "<a href=\"https://colab.research.google.com/github/a3hok/Data-Visualization-spring-2022/blob/main/quiz%2016.ipynb\" target=\"_parent\"><img src=\"https://colab.research.google.com/assets/colab-badge.svg\" alt=\"Open In Colab\"/></a>"
      ]
    },
    {
      "cell_type": "markdown",
      "source": [
        "#Ashok Dahal\n",
        "Quiz 16\n",
        "\n",
        "\n",
        "Using the dataset from an IOT device retreived here https://raw.githubusercontent.com/nurfnick/Data_Viz/main/IOT-temp.csv \n",
        "\n",
        "What is the minimum and maximum date and time?\n",
        "\n",
        "What is the largest interval inbetween temperature checks?\n",
        "\n",
        "What is the average datetime?\n",
        "\n",
        "What was the average outside temperature on '11-09-2018'?\n",
        "[ ]\n"
      ],
      "metadata": {
        "id": "4kAEwgmU1ojR"
      }
    },
    {
      "cell_type": "code",
      "execution_count": 88,
      "metadata": {
        "colab": {
          "base_uri": "https://localhost:8080/",
          "height": 270
        },
        "id": "dEOj85M21ajl",
        "outputId": "8ab26564-d6b7-47ed-e639-d4bbc0380245"
      },
      "outputs": [
        {
          "output_type": "execute_result",
          "data": {
            "text/html": [
              "\n",
              "  <div id=\"df-3f21ecf9-ddb3-4bb1-8e92-7be32553a3ed\">\n",
              "    <div class=\"colab-df-container\">\n",
              "      <div>\n",
              "<style scoped>\n",
              "    .dataframe tbody tr th:only-of-type {\n",
              "        vertical-align: middle;\n",
              "    }\n",
              "\n",
              "    .dataframe tbody tr th {\n",
              "        vertical-align: top;\n",
              "    }\n",
              "\n",
              "    .dataframe thead th {\n",
              "        text-align: right;\n",
              "    }\n",
              "</style>\n",
              "<table border=\"1\" class=\"dataframe\">\n",
              "  <thead>\n",
              "    <tr style=\"text-align: right;\">\n",
              "      <th></th>\n",
              "      <th>0</th>\n",
              "      <th>1</th>\n",
              "      <th>2</th>\n",
              "      <th>3</th>\n",
              "      <th>4</th>\n",
              "      <th>5</th>\n",
              "      <th>6</th>\n",
              "      <th>7</th>\n",
              "      <th>8</th>\n",
              "      <th>9</th>\n",
              "      <th>10</th>\n",
              "      <th>11</th>\n",
              "      <th>12</th>\n",
              "      <th>13</th>\n",
              "      <th>14</th>\n",
              "    </tr>\n",
              "  </thead>\n",
              "  <tbody>\n",
              "    <tr>\n",
              "      <th>id</th>\n",
              "      <td>__export__.temp_log_196134_bd201015</td>\n",
              "      <td>__export__.temp_log_196131_7bca51bc</td>\n",
              "      <td>__export__.temp_log_196127_522915e3</td>\n",
              "      <td>__export__.temp_log_196128_be0919cf</td>\n",
              "      <td>__export__.temp_log_196126_d30b72fb</td>\n",
              "      <td>__export__.temp_log_196125_b0fa0b41</td>\n",
              "      <td>__export__.temp_log_196121_01544d45</td>\n",
              "      <td>__export__.temp_log_196122_f8b80a9f</td>\n",
              "      <td>__export__.temp_log_196111_6b7a0848</td>\n",
              "      <td>__export__.temp_log_196112_e134aebd</td>\n",
              "      <td>__export__.temp_log_196108_4a983c7e</td>\n",
              "      <td>__export__.temp_log_196108_4a983c7e</td>\n",
              "      <td>__export__.temp_log_196101_d5ec7633</td>\n",
              "      <td>__export__.temp_log_196099_3b8ef67b</td>\n",
              "      <td>__export__.temp_log_196095_788b2c27</td>\n",
              "    </tr>\n",
              "    <tr>\n",
              "      <th>room_id/id</th>\n",
              "      <td>Room Admin</td>\n",
              "      <td>Room Admin</td>\n",
              "      <td>Room Admin</td>\n",
              "      <td>Room Admin</td>\n",
              "      <td>Room Admin</td>\n",
              "      <td>Room Admin</td>\n",
              "      <td>Room Admin</td>\n",
              "      <td>Room Admin</td>\n",
              "      <td>Room Admin</td>\n",
              "      <td>Room Admin</td>\n",
              "      <td>Room Admin</td>\n",
              "      <td>Room Admin</td>\n",
              "      <td>Room Admin</td>\n",
              "      <td>Room Admin</td>\n",
              "      <td>Room Admin</td>\n",
              "    </tr>\n",
              "    <tr>\n",
              "      <th>noted_date</th>\n",
              "      <td>08-12-2018 09:30</td>\n",
              "      <td>08-12-2018 09:30</td>\n",
              "      <td>08-12-2018 09:29</td>\n",
              "      <td>08-12-2018 09:29</td>\n",
              "      <td>08-12-2018 09:29</td>\n",
              "      <td>08-12-2018 09:29</td>\n",
              "      <td>08-12-2018 09:28</td>\n",
              "      <td>08-12-2018 09:28</td>\n",
              "      <td>08-12-2018 09:26</td>\n",
              "      <td>08-12-2018 09:26</td>\n",
              "      <td>08-12-2018 09:25</td>\n",
              "      <td>08-12-2018 09:25</td>\n",
              "      <td>08-12-2018 09:24</td>\n",
              "      <td>08-12-2018 09:24</td>\n",
              "      <td>08-12-2018 09:22</td>\n",
              "    </tr>\n",
              "    <tr>\n",
              "      <th>temp</th>\n",
              "      <td>29</td>\n",
              "      <td>29</td>\n",
              "      <td>41</td>\n",
              "      <td>41</td>\n",
              "      <td>31</td>\n",
              "      <td>31</td>\n",
              "      <td>29</td>\n",
              "      <td>29</td>\n",
              "      <td>29</td>\n",
              "      <td>29</td>\n",
              "      <td>42</td>\n",
              "      <td>42</td>\n",
              "      <td>29</td>\n",
              "      <td>29</td>\n",
              "      <td>29</td>\n",
              "    </tr>\n",
              "    <tr>\n",
              "      <th>out/in</th>\n",
              "      <td>In</td>\n",
              "      <td>In</td>\n",
              "      <td>Out</td>\n",
              "      <td>Out</td>\n",
              "      <td>In</td>\n",
              "      <td>In</td>\n",
              "      <td>In</td>\n",
              "      <td>In</td>\n",
              "      <td>In</td>\n",
              "      <td>In</td>\n",
              "      <td>Out</td>\n",
              "      <td>Out</td>\n",
              "      <td>In</td>\n",
              "      <td>In</td>\n",
              "      <td>In</td>\n",
              "    </tr>\n",
              "  </tbody>\n",
              "</table>\n",
              "</div>\n",
              "      <button class=\"colab-df-convert\" onclick=\"convertToInteractive('df-3f21ecf9-ddb3-4bb1-8e92-7be32553a3ed')\"\n",
              "              title=\"Convert this dataframe to an interactive table.\"\n",
              "              style=\"display:none;\">\n",
              "        \n",
              "  <svg xmlns=\"http://www.w3.org/2000/svg\" height=\"24px\"viewBox=\"0 0 24 24\"\n",
              "       width=\"24px\">\n",
              "    <path d=\"M0 0h24v24H0V0z\" fill=\"none\"/>\n",
              "    <path d=\"M18.56 5.44l.94 2.06.94-2.06 2.06-.94-2.06-.94-.94-2.06-.94 2.06-2.06.94zm-11 1L8.5 8.5l.94-2.06 2.06-.94-2.06-.94L8.5 2.5l-.94 2.06-2.06.94zm10 10l.94 2.06.94-2.06 2.06-.94-2.06-.94-.94-2.06-.94 2.06-2.06.94z\"/><path d=\"M17.41 7.96l-1.37-1.37c-.4-.4-.92-.59-1.43-.59-.52 0-1.04.2-1.43.59L10.3 9.45l-7.72 7.72c-.78.78-.78 2.05 0 2.83L4 21.41c.39.39.9.59 1.41.59.51 0 1.02-.2 1.41-.59l7.78-7.78 2.81-2.81c.8-.78.8-2.07 0-2.86zM5.41 20L4 18.59l7.72-7.72 1.47 1.35L5.41 20z\"/>\n",
              "  </svg>\n",
              "      </button>\n",
              "      \n",
              "  <style>\n",
              "    .colab-df-container {\n",
              "      display:flex;\n",
              "      flex-wrap:wrap;\n",
              "      gap: 12px;\n",
              "    }\n",
              "\n",
              "    .colab-df-convert {\n",
              "      background-color: #E8F0FE;\n",
              "      border: none;\n",
              "      border-radius: 50%;\n",
              "      cursor: pointer;\n",
              "      display: none;\n",
              "      fill: #1967D2;\n",
              "      height: 32px;\n",
              "      padding: 0 0 0 0;\n",
              "      width: 32px;\n",
              "    }\n",
              "\n",
              "    .colab-df-convert:hover {\n",
              "      background-color: #E2EBFA;\n",
              "      box-shadow: 0px 1px 2px rgba(60, 64, 67, 0.3), 0px 1px 3px 1px rgba(60, 64, 67, 0.15);\n",
              "      fill: #174EA6;\n",
              "    }\n",
              "\n",
              "    [theme=dark] .colab-df-convert {\n",
              "      background-color: #3B4455;\n",
              "      fill: #D2E3FC;\n",
              "    }\n",
              "\n",
              "    [theme=dark] .colab-df-convert:hover {\n",
              "      background-color: #434B5C;\n",
              "      box-shadow: 0px 1px 3px 1px rgba(0, 0, 0, 0.15);\n",
              "      filter: drop-shadow(0px 1px 2px rgba(0, 0, 0, 0.3));\n",
              "      fill: #FFFFFF;\n",
              "    }\n",
              "  </style>\n",
              "\n",
              "      <script>\n",
              "        const buttonEl =\n",
              "          document.querySelector('#df-3f21ecf9-ddb3-4bb1-8e92-7be32553a3ed button.colab-df-convert');\n",
              "        buttonEl.style.display =\n",
              "          google.colab.kernel.accessAllowed ? 'block' : 'none';\n",
              "\n",
              "        async function convertToInteractive(key) {\n",
              "          const element = document.querySelector('#df-3f21ecf9-ddb3-4bb1-8e92-7be32553a3ed');\n",
              "          const dataTable =\n",
              "            await google.colab.kernel.invokeFunction('convertToInteractive',\n",
              "                                                     [key], {});\n",
              "          if (!dataTable) return;\n",
              "\n",
              "          const docLinkHtml = 'Like what you see? Visit the ' +\n",
              "            '<a target=\"_blank\" href=https://colab.research.google.com/notebooks/data_table.ipynb>data table notebook</a>'\n",
              "            + ' to learn more about interactive tables.';\n",
              "          element.innerHTML = '';\n",
              "          dataTable['output_type'] = 'display_data';\n",
              "          await google.colab.output.renderOutput(dataTable, element);\n",
              "          const docLink = document.createElement('div');\n",
              "          docLink.innerHTML = docLinkHtml;\n",
              "          element.appendChild(docLink);\n",
              "        }\n",
              "      </script>\n",
              "    </div>\n",
              "  </div>\n",
              "  "
            ],
            "text/plain": [
              "                                             0   ...                                   14\n",
              "id          __export__.temp_log_196134_bd201015  ...  __export__.temp_log_196095_788b2c27\n",
              "room_id/id                           Room Admin  ...                           Room Admin\n",
              "noted_date                     08-12-2018 09:30  ...                     08-12-2018 09:22\n",
              "temp                                         29  ...                                   29\n",
              "out/in                                       In  ...                                   In\n",
              "\n",
              "[5 rows x 15 columns]"
            ]
          },
          "metadata": {},
          "execution_count": 88
        }
      ],
      "source": [
        "\n",
        "import pandas as pa\n",
        "import numpy as np\n",
        "\n",
        "df = pa.read_csv('https://raw.githubusercontent.com/nurfnick/Data_Viz/main/IOT-temp.csv')\n",
        "df.head(15).T"
      ]
    },
    {
      "cell_type": "code",
      "source": [
        "df.dtypes\n"
      ],
      "metadata": {
        "colab": {
          "base_uri": "https://localhost:8080/"
        },
        "id": "nNQp_p8Y7HOi",
        "outputId": "1f72a914-982a-4805-e22b-7f2468992ad7"
      },
      "execution_count": 89,
      "outputs": [
        {
          "output_type": "execute_result",
          "data": {
            "text/plain": [
              "id            object\n",
              "room_id/id    object\n",
              "noted_date    object\n",
              "temp           int64\n",
              "out/in        object\n",
              "dtype: object"
            ]
          },
          "metadata": {},
          "execution_count": 89
        }
      ]
    },
    {
      "cell_type": "code",
      "source": [
        "IOT_df.noted_date=pa.to_datetime(IOT_df.noted_date, format = '%d-%m-%Y %H:%M')\n",
        "IOT_df"
      ],
      "metadata": {
        "colab": {
          "base_uri": "https://localhost:8080/",
          "height": 423
        },
        "id": "ykqdKUxCGUYG",
        "outputId": "879ee436-a6ef-46f4-f9bd-a246c3308586"
      },
      "execution_count": 90,
      "outputs": [
        {
          "output_type": "execute_result",
          "data": {
            "text/html": [
              "\n",
              "  <div id=\"df-268ac9ba-af91-4568-82f5-1eb553de7668\">\n",
              "    <div class=\"colab-df-container\">\n",
              "      <div>\n",
              "<style scoped>\n",
              "    .dataframe tbody tr th:only-of-type {\n",
              "        vertical-align: middle;\n",
              "    }\n",
              "\n",
              "    .dataframe tbody tr th {\n",
              "        vertical-align: top;\n",
              "    }\n",
              "\n",
              "    .dataframe thead th {\n",
              "        text-align: right;\n",
              "    }\n",
              "</style>\n",
              "<table border=\"1\" class=\"dataframe\">\n",
              "  <thead>\n",
              "    <tr style=\"text-align: right;\">\n",
              "      <th></th>\n",
              "      <th>id</th>\n",
              "      <th>room_id/id</th>\n",
              "      <th>noted_date</th>\n",
              "      <th>temp</th>\n",
              "      <th>out/in</th>\n",
              "      <th>New_Date</th>\n",
              "      <th>New_Time</th>\n",
              "    </tr>\n",
              "  </thead>\n",
              "  <tbody>\n",
              "    <tr>\n",
              "      <th>0</th>\n",
              "      <td>__export__.temp_log_196134_bd201015</td>\n",
              "      <td>Room Admin</td>\n",
              "      <td>2018-12-08 09:30:00</td>\n",
              "      <td>29</td>\n",
              "      <td>In</td>\n",
              "      <td>2018-12-08</td>\n",
              "      <td>09:30:00</td>\n",
              "    </tr>\n",
              "    <tr>\n",
              "      <th>1</th>\n",
              "      <td>__export__.temp_log_196131_7bca51bc</td>\n",
              "      <td>Room Admin</td>\n",
              "      <td>2018-12-08 09:30:00</td>\n",
              "      <td>29</td>\n",
              "      <td>In</td>\n",
              "      <td>2018-12-08</td>\n",
              "      <td>09:30:00</td>\n",
              "    </tr>\n",
              "    <tr>\n",
              "      <th>2</th>\n",
              "      <td>__export__.temp_log_196127_522915e3</td>\n",
              "      <td>Room Admin</td>\n",
              "      <td>2018-12-08 09:29:00</td>\n",
              "      <td>41</td>\n",
              "      <td>Out</td>\n",
              "      <td>2018-12-08</td>\n",
              "      <td>09:29:00</td>\n",
              "    </tr>\n",
              "    <tr>\n",
              "      <th>3</th>\n",
              "      <td>__export__.temp_log_196128_be0919cf</td>\n",
              "      <td>Room Admin</td>\n",
              "      <td>2018-12-08 09:29:00</td>\n",
              "      <td>41</td>\n",
              "      <td>Out</td>\n",
              "      <td>2018-12-08</td>\n",
              "      <td>09:29:00</td>\n",
              "    </tr>\n",
              "    <tr>\n",
              "      <th>4</th>\n",
              "      <td>__export__.temp_log_196126_d30b72fb</td>\n",
              "      <td>Room Admin</td>\n",
              "      <td>2018-12-08 09:29:00</td>\n",
              "      <td>31</td>\n",
              "      <td>In</td>\n",
              "      <td>2018-12-08</td>\n",
              "      <td>09:29:00</td>\n",
              "    </tr>\n",
              "    <tr>\n",
              "      <th>...</th>\n",
              "      <td>...</td>\n",
              "      <td>...</td>\n",
              "      <td>...</td>\n",
              "      <td>...</td>\n",
              "      <td>...</td>\n",
              "      <td>...</td>\n",
              "      <td>...</td>\n",
              "    </tr>\n",
              "    <tr>\n",
              "      <th>97601</th>\n",
              "      <td>__export__.temp_log_91076_7fbd08ca</td>\n",
              "      <td>Room Admin</td>\n",
              "      <td>2018-07-28 07:07:00</td>\n",
              "      <td>31</td>\n",
              "      <td>In</td>\n",
              "      <td>2018-07-28</td>\n",
              "      <td>07:07:00</td>\n",
              "    </tr>\n",
              "    <tr>\n",
              "      <th>97602</th>\n",
              "      <td>__export__.temp_log_147733_62c03f31</td>\n",
              "      <td>Room Admin</td>\n",
              "      <td>2018-07-28 07:07:00</td>\n",
              "      <td>31</td>\n",
              "      <td>In</td>\n",
              "      <td>2018-07-28</td>\n",
              "      <td>07:07:00</td>\n",
              "    </tr>\n",
              "    <tr>\n",
              "      <th>97603</th>\n",
              "      <td>__export__.temp_log_100386_84093a68</td>\n",
              "      <td>Room Admin</td>\n",
              "      <td>2018-07-28 07:06:00</td>\n",
              "      <td>31</td>\n",
              "      <td>In</td>\n",
              "      <td>2018-07-28</td>\n",
              "      <td>07:06:00</td>\n",
              "    </tr>\n",
              "    <tr>\n",
              "      <th>97604</th>\n",
              "      <td>__export__.temp_log_123297_4d8e690b</td>\n",
              "      <td>Room Admin</td>\n",
              "      <td>2018-07-28 07:06:00</td>\n",
              "      <td>31</td>\n",
              "      <td>In</td>\n",
              "      <td>2018-07-28</td>\n",
              "      <td>07:06:00</td>\n",
              "    </tr>\n",
              "    <tr>\n",
              "      <th>97605</th>\n",
              "      <td>__export__.temp_log_133741_32958703</td>\n",
              "      <td>Room Admin</td>\n",
              "      <td>2018-07-28 07:06:00</td>\n",
              "      <td>31</td>\n",
              "      <td>In</td>\n",
              "      <td>2018-07-28</td>\n",
              "      <td>07:06:00</td>\n",
              "    </tr>\n",
              "  </tbody>\n",
              "</table>\n",
              "<p>97606 rows × 7 columns</p>\n",
              "</div>\n",
              "      <button class=\"colab-df-convert\" onclick=\"convertToInteractive('df-268ac9ba-af91-4568-82f5-1eb553de7668')\"\n",
              "              title=\"Convert this dataframe to an interactive table.\"\n",
              "              style=\"display:none;\">\n",
              "        \n",
              "  <svg xmlns=\"http://www.w3.org/2000/svg\" height=\"24px\"viewBox=\"0 0 24 24\"\n",
              "       width=\"24px\">\n",
              "    <path d=\"M0 0h24v24H0V0z\" fill=\"none\"/>\n",
              "    <path d=\"M18.56 5.44l.94 2.06.94-2.06 2.06-.94-2.06-.94-.94-2.06-.94 2.06-2.06.94zm-11 1L8.5 8.5l.94-2.06 2.06-.94-2.06-.94L8.5 2.5l-.94 2.06-2.06.94zm10 10l.94 2.06.94-2.06 2.06-.94-2.06-.94-.94-2.06-.94 2.06-2.06.94z\"/><path d=\"M17.41 7.96l-1.37-1.37c-.4-.4-.92-.59-1.43-.59-.52 0-1.04.2-1.43.59L10.3 9.45l-7.72 7.72c-.78.78-.78 2.05 0 2.83L4 21.41c.39.39.9.59 1.41.59.51 0 1.02-.2 1.41-.59l7.78-7.78 2.81-2.81c.8-.78.8-2.07 0-2.86zM5.41 20L4 18.59l7.72-7.72 1.47 1.35L5.41 20z\"/>\n",
              "  </svg>\n",
              "      </button>\n",
              "      \n",
              "  <style>\n",
              "    .colab-df-container {\n",
              "      display:flex;\n",
              "      flex-wrap:wrap;\n",
              "      gap: 12px;\n",
              "    }\n",
              "\n",
              "    .colab-df-convert {\n",
              "      background-color: #E8F0FE;\n",
              "      border: none;\n",
              "      border-radius: 50%;\n",
              "      cursor: pointer;\n",
              "      display: none;\n",
              "      fill: #1967D2;\n",
              "      height: 32px;\n",
              "      padding: 0 0 0 0;\n",
              "      width: 32px;\n",
              "    }\n",
              "\n",
              "    .colab-df-convert:hover {\n",
              "      background-color: #E2EBFA;\n",
              "      box-shadow: 0px 1px 2px rgba(60, 64, 67, 0.3), 0px 1px 3px 1px rgba(60, 64, 67, 0.15);\n",
              "      fill: #174EA6;\n",
              "    }\n",
              "\n",
              "    [theme=dark] .colab-df-convert {\n",
              "      background-color: #3B4455;\n",
              "      fill: #D2E3FC;\n",
              "    }\n",
              "\n",
              "    [theme=dark] .colab-df-convert:hover {\n",
              "      background-color: #434B5C;\n",
              "      box-shadow: 0px 1px 3px 1px rgba(0, 0, 0, 0.15);\n",
              "      filter: drop-shadow(0px 1px 2px rgba(0, 0, 0, 0.3));\n",
              "      fill: #FFFFFF;\n",
              "    }\n",
              "  </style>\n",
              "\n",
              "      <script>\n",
              "        const buttonEl =\n",
              "          document.querySelector('#df-268ac9ba-af91-4568-82f5-1eb553de7668 button.colab-df-convert');\n",
              "        buttonEl.style.display =\n",
              "          google.colab.kernel.accessAllowed ? 'block' : 'none';\n",
              "\n",
              "        async function convertToInteractive(key) {\n",
              "          const element = document.querySelector('#df-268ac9ba-af91-4568-82f5-1eb553de7668');\n",
              "          const dataTable =\n",
              "            await google.colab.kernel.invokeFunction('convertToInteractive',\n",
              "                                                     [key], {});\n",
              "          if (!dataTable) return;\n",
              "\n",
              "          const docLinkHtml = 'Like what you see? Visit the ' +\n",
              "            '<a target=\"_blank\" href=https://colab.research.google.com/notebooks/data_table.ipynb>data table notebook</a>'\n",
              "            + ' to learn more about interactive tables.';\n",
              "          element.innerHTML = '';\n",
              "          dataTable['output_type'] = 'display_data';\n",
              "          await google.colab.output.renderOutput(dataTable, element);\n",
              "          const docLink = document.createElement('div');\n",
              "          docLink.innerHTML = docLinkHtml;\n",
              "          element.appendChild(docLink);\n",
              "        }\n",
              "      </script>\n",
              "    </div>\n",
              "  </div>\n",
              "  "
            ],
            "text/plain": [
              "                                        id  room_id/id  ...    New_Date  New_Time\n",
              "0      __export__.temp_log_196134_bd201015  Room Admin  ...  2018-12-08  09:30:00\n",
              "1      __export__.temp_log_196131_7bca51bc  Room Admin  ...  2018-12-08  09:30:00\n",
              "2      __export__.temp_log_196127_522915e3  Room Admin  ...  2018-12-08  09:29:00\n",
              "3      __export__.temp_log_196128_be0919cf  Room Admin  ...  2018-12-08  09:29:00\n",
              "4      __export__.temp_log_196126_d30b72fb  Room Admin  ...  2018-12-08  09:29:00\n",
              "...                                    ...         ...  ...         ...       ...\n",
              "97601   __export__.temp_log_91076_7fbd08ca  Room Admin  ...  2018-07-28  07:07:00\n",
              "97602  __export__.temp_log_147733_62c03f31  Room Admin  ...  2018-07-28  07:07:00\n",
              "97603  __export__.temp_log_100386_84093a68  Room Admin  ...  2018-07-28  07:06:00\n",
              "97604  __export__.temp_log_123297_4d8e690b  Room Admin  ...  2018-07-28  07:06:00\n",
              "97605  __export__.temp_log_133741_32958703  Room Admin  ...  2018-07-28  07:06:00\n",
              "\n",
              "[97606 rows x 7 columns]"
            ]
          },
          "metadata": {},
          "execution_count": 90
        }
      ]
    },
    {
      "cell_type": "code",
      "source": [
        "IOT_df['New_Date']=[d.date() for d in IOT_df['noted_date']]\n",
        "IOT_df['New_Time']=[d.time() for d in IOT_df['noted_date']]\n",
        "print(IOT_df)"
      ],
      "metadata": {
        "colab": {
          "base_uri": "https://localhost:8080/"
        },
        "id": "3oBRfJp9GrPx",
        "outputId": "52a2823d-d327-4799-c58b-8a19a834f06b"
      },
      "execution_count": 91,
      "outputs": [
        {
          "output_type": "stream",
          "name": "stdout",
          "text": [
            "                                        id  room_id/id  ...    New_Date  New_Time\n",
            "0      __export__.temp_log_196134_bd201015  Room Admin  ...  2018-12-08  09:30:00\n",
            "1      __export__.temp_log_196131_7bca51bc  Room Admin  ...  2018-12-08  09:30:00\n",
            "2      __export__.temp_log_196127_522915e3  Room Admin  ...  2018-12-08  09:29:00\n",
            "3      __export__.temp_log_196128_be0919cf  Room Admin  ...  2018-12-08  09:29:00\n",
            "4      __export__.temp_log_196126_d30b72fb  Room Admin  ...  2018-12-08  09:29:00\n",
            "...                                    ...         ...  ...         ...       ...\n",
            "97601   __export__.temp_log_91076_7fbd08ca  Room Admin  ...  2018-07-28  07:07:00\n",
            "97602  __export__.temp_log_147733_62c03f31  Room Admin  ...  2018-07-28  07:07:00\n",
            "97603  __export__.temp_log_100386_84093a68  Room Admin  ...  2018-07-28  07:06:00\n",
            "97604  __export__.temp_log_123297_4d8e690b  Room Admin  ...  2018-07-28  07:06:00\n",
            "97605  __export__.temp_log_133741_32958703  Room Admin  ...  2018-07-28  07:06:00\n",
            "\n",
            "[97606 rows x 7 columns]\n"
          ]
        }
      ]
    },
    {
      "cell_type": "code",
      "source": [
        "IOT_df.New_Date.describe()\n",
        "\n"
      ],
      "metadata": {
        "colab": {
          "base_uri": "https://localhost:8080/"
        },
        "id": "tQ4XfZ7aHvo8",
        "outputId": "eca0651f-ed0f-4938-e6f5-3dccd0c67ddc"
      },
      "execution_count": 92,
      "outputs": [
        {
          "output_type": "execute_result",
          "data": {
            "text/plain": [
              "count          97606\n",
              "unique            86\n",
              "top       2018-10-17\n",
              "freq           20564\n",
              "Name: New_Date, dtype: object"
            ]
          },
          "metadata": {},
          "execution_count": 92
        }
      ]
    },
    {
      "cell_type": "code",
      "source": [
        "IOT_df.New_Time.describe()\n"
      ],
      "metadata": {
        "colab": {
          "base_uri": "https://localhost:8080/"
        },
        "id": "gnUPhhh8IHqm",
        "outputId": "121e416e-ffd4-4da9-de8e-8478346902e6"
      },
      "execution_count": 93,
      "outputs": [
        {
          "output_type": "execute_result",
          "data": {
            "text/plain": [
              "count        97606\n",
              "unique        1440\n",
              "top       14:17:00\n",
              "freq           159\n",
              "Name: New_Time, dtype: object"
            ]
          },
          "metadata": {},
          "execution_count": 93
        }
      ]
    },
    {
      "cell_type": "markdown",
      "source": [
        "#What is the minimum and maximum date and time?\n"
      ],
      "metadata": {
        "id": "rjrFGvYsW3lj"
      }
    },
    {
      "cell_type": "code",
      "source": [
        "new1=IOT_df[\"New_Date\"]\n",
        "new2=IOT_df[\"New_Time\"]\n",
        "\n",
        "min_date=new1.min()\n",
        "max_date=new1.max()\n",
        "print(\"min date =\" ,min_date)\n",
        "print(\"max date =\" ,max_date)"
      ],
      "metadata": {
        "colab": {
          "base_uri": "https://localhost:8080/"
        },
        "id": "m3Teo0jyIdhq",
        "outputId": "42d79c56-58a1-475a-b492-4e1e73931031"
      },
      "execution_count": 97,
      "outputs": [
        {
          "output_type": "stream",
          "name": "stdout",
          "text": [
            "min date = 2018-07-28\n",
            "max date = 2018-12-08\n"
          ]
        }
      ]
    },
    {
      "cell_type": "code",
      "source": [
        "min_time=new2.min()\n",
        "max_time=new2.max()\n",
        "print(\"min time =\" ,min_time)\n",
        "print(\"max time =\" ,max_time)"
      ],
      "metadata": {
        "colab": {
          "base_uri": "https://localhost:8080/"
        },
        "id": "CZwgDvnDIkWk",
        "outputId": "ab783e80-85be-4e73-b925-ebf399ca2fbe"
      },
      "execution_count": 98,
      "outputs": [
        {
          "output_type": "stream",
          "name": "stdout",
          "text": [
            "min time = 00:00:00\n",
            "max time = 23:59:00\n"
          ]
        }
      ]
    },
    {
      "cell_type": "markdown",
      "source": [
        "#What is the largest interval inbetween temperature checks?"
      ],
      "metadata": {
        "id": "UcBQ36t_WpyV"
      }
    },
    {
      "cell_type": "code",
      "source": [
        "differenceInDates =  df.temp \n",
        "differenceInDates.describe()"
      ],
      "metadata": {
        "colab": {
          "base_uri": "https://localhost:8080/"
        },
        "id": "0SEL6OMUU6Qf",
        "outputId": "417c54b1-989d-43dd-bb9e-8c7fb48b4989"
      },
      "execution_count": 118,
      "outputs": [
        {
          "output_type": "execute_result",
          "data": {
            "text/plain": [
              "count    97606.000000\n",
              "mean        35.053931\n",
              "std          5.699825\n",
              "min         21.000000\n",
              "25%         30.000000\n",
              "50%         35.000000\n",
              "75%         40.000000\n",
              "max         51.000000\n",
              "Name: temp, dtype: float64"
            ]
          },
          "metadata": {},
          "execution_count": 118
        }
      ]
    }
  ]
}