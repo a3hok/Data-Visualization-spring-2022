{
  "nbformat": 4,
  "nbformat_minor": 0,
  "metadata": {
    "colab": {
      "name": "Untitled5.ipynb",
      "provenance": [],
      "authorship_tag": "ABX9TyNV0Z6Fyd3M3lqjJx4Hv8m/",
      "include_colab_link": true
    },
    "kernelspec": {
      "name": "python3",
      "display_name": "Python 3"
    },
    "language_info": {
      "name": "python"
    }
  },
  "cells": [
    {
      "cell_type": "markdown",
      "metadata": {
        "id": "view-in-github",
        "colab_type": "text"
      },
      "source": [
        "<a href=\"https://colab.research.google.com/github/a3hok/Data-Visualization-spring-2022/blob/main/QUIZ14.ipynb\" target=\"_parent\"><img src=\"https://colab.research.google.com/assets/colab-badge.svg\" alt=\"Open In Colab\"/></a>"
      ]
    },
    {
      "cell_type": "markdown",
      "source": [
        "Ashok Dahal\n",
        "\n",
        "\n",
        "#quiz 14"
      ],
      "metadata": {
        "id": "2DzCXX11oB-h"
      }
    },
    {
      "cell_type": "markdown",
      "source": [
        "\n",
        "\n",
        "#string\n",
        " "
      ],
      "metadata": {
        "id": "ZUaDSXgXXtkt"
      }
    },
    {
      "cell_type": "code",
      "execution_count": 41,
      "metadata": {
        "colab": {
          "base_uri": "https://localhost:8080/"
        },
        "id": "alWdNlMJUlxx",
        "outputId": "fdfcbbda-1664-428b-92ef-057a92e58684"
      },
      "outputs": [
        {
          "name": "stdout",
          "output_type": "stream",
          "text": [
            "Enter your Name:Ashok\n"
          ]
        }
      ],
      "source": [
        "song =\"Happy birthday to you!\"\n",
        "greet =\"Happy birthday to you Dear\"\n",
        "name = input(\"Enter your Name:\") #input from user\n"
      ]
    },
    {
      "cell_type": "code",
      "source": [
        "print (song +\" \\n\"+ song+\" \\n\" +greet +\" \"+ name+\"\\n\" + song) #final code"
      ],
      "metadata": {
        "colab": {
          "base_uri": "https://localhost:8080/"
        },
        "id": "I46MI8NLWok3",
        "outputId": "a75d0b06-cc59-4696-c433-42c96971a1b6"
      },
      "execution_count": 42,
      "outputs": [
        {
          "output_type": "stream",
          "name": "stdout",
          "text": [
            "Happy birthday to you! \n",
            "Happy birthday to you! \n",
            "Happy birthday to you Dear Ashok\n",
            "Happy birthday to you!\n"
          ]
        }
      ]
    },
    {
      "cell_type": "markdown",
      "source": [
        ""
      ],
      "metadata": {
        "id": "6nOyaaeiUmal"
      }
    }
  ]
}